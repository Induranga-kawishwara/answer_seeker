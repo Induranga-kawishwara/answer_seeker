{
 "cells": [
  {
   "cell_type": "code",
   "execution_count": 1,
   "id": "a2f2b559-68e1-42b8-b174-3ca1399e1c4a",
   "metadata": {},
   "outputs": [],
   "source": [
    "from langchain.embeddings.openai import OpenAIEmbeddings\n",
    "from langchain.vectorstores import Chroma\n",
    "from langchain.text_splitter import CharacterTextSplitter\n",
    "from langchain import OpenAI, VectorDBQA\n",
    "from langchain.document_loaders import DirectoryLoader\n",
    "import os\n",
    "import nltk\n",
    "\n",
    "os.environ['OPENAI_API_KEY'] = '...'\n",
    "\n"
   ]
  },
  {
   "cell_type": "code",
   "execution_count": 4,
   "id": "fcb0d1e0-f821-4784-adce-3c3a4947274a",
   "metadata": {},
   "outputs": [],
   "source": [
    "loader = DirectoryLoader('../answer_seeker/text/', glob='**/*.txt')\n"
   ]
  },
  {
   "cell_type": "code",
   "execution_count": 5,
   "id": "f5ebc353-a2c4-41b7-9761-07132e9f2fa0",
   "metadata": {},
   "outputs": [],
   "source": [
    "documents = loader.load()"
   ]
  },
  {
   "cell_type": "code",
   "execution_count": 6,
   "id": "718bf857-1ee0-4975-967d-827b2378be9e",
   "metadata": {},
   "outputs": [
    {
     "data": {
      "text/plain": [
       "[Document(page_content='hi how are you ? ?\\n\\ncat is cat', metadata={'source': '..\\\\answer_seeker\\\\text\\\\test.txt'})]"
      ]
     },
     "execution_count": 6,
     "metadata": {},
     "output_type": "execute_result"
    }
   ],
   "source": [
    "documents"
   ]
  },
  {
   "cell_type": "code",
   "execution_count": 7,
   "id": "a6874c8a-8f8f-4fb4-a137-f10bd2dcb64e",
   "metadata": {},
   "outputs": [],
   "source": [
    "text_splitter = CharacterTextSplitter(chunk_size=1000, chunk_overlap=0)"
   ]
  },
  {
   "cell_type": "code",
   "execution_count": 8,
   "id": "731e476d",
   "metadata": {},
   "outputs": [],
   "source": [
    "texts = text_splitter.split_documents(documents)"
   ]
  },
  {
   "cell_type": "code",
   "execution_count": 9,
   "id": "2d10af8e",
   "metadata": {},
   "outputs": [
    {
     "data": {
      "text/plain": [
       "[Document(page_content='hi how are you ? ?\\n\\ncat is cat', metadata={'source': '..\\\\answer_seeker\\\\text\\\\test.txt'})]"
      ]
     },
     "execution_count": 9,
     "metadata": {},
     "output_type": "execute_result"
    }
   ],
   "source": [
    "texts"
   ]
  },
  {
   "cell_type": "code",
   "execution_count": 10,
   "id": "3630e548",
   "metadata": {},
   "outputs": [
    {
     "name": "stderr",
     "output_type": "stream",
     "text": [
      "c:\\Users\\User\\AppData\\Local\\Programs\\Python\\Python312\\Lib\\site-packages\\langchain_core\\_api\\deprecation.py:117: LangChainDeprecationWarning: The class `langchain_community.embeddings.openai.OpenAIEmbeddings` was deprecated in langchain-community 0.1.0 and will be removed in 0.2.0. Use langchain_openai.OpenAIEmbeddings instead.\n",
      "  warn_deprecated(\n",
      "c:\\Users\\User\\AppData\\Local\\Programs\\Python\\Python312\\Lib\\site-packages\\langchain_community\\embeddings\\openai.py:268: UserWarning: WARNING! Openai_api_key is not default parameter.\n",
      "                    Openai_api_key was transferred to model_kwargs.\n",
      "                    Please confirm that Openai_api_key is what you intended.\n",
      "  warnings.warn(\n"
     ]
    }
   ],
   "source": [
    "embeddings = OpenAIEmbeddings(Openai_api_key=os.environ['OPENAI_API_KEY'])"
   ]
  },
  {
   "cell_type": "code",
   "execution_count": null,
   "id": "18cefa0b",
   "metadata": {},
   "outputs": [],
   "source": [
    "docsearch = Chroma.from_documents(texts , embeddings)"
   ]
  },
  {
   "cell_type": "code",
   "execution_count": null,
   "id": "f078221d",
   "metadata": {},
   "outputs": [],
   "source": [
    "qa = VectorDBQA.from_chain_type(llm = OpenAI(), chain_type=\"stuff\" , vectorstore = docsearch )"
   ]
  },
  {
   "cell_type": "code",
   "execution_count": null,
   "id": "55acb54e",
   "metadata": {},
   "outputs": [],
   "source": [
    "query = \"what is cat ?? \"\n",
    "qa.run(query)"
   ]
  }
 ],
 "metadata": {
  "kernelspec": {
   "display_name": "Python 3 (ipykernel)",
   "language": "python",
   "name": "python3"
  },
  "language_info": {
   "codemirror_mode": {
    "name": "ipython",
    "version": 3
   },
   "file_extension": ".py",
   "mimetype": "text/x-python",
   "name": "python",
   "nbconvert_exporter": "python",
   "pygments_lexer": "ipython3",
   "version": "3.12.1"
  }
 },
 "nbformat": 4,
 "nbformat_minor": 5
}
